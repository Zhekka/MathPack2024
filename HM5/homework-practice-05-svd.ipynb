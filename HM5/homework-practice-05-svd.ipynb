{
 "cells": [
  {
   "cell_type": "markdown",
   "id": "36af248b-a3df-431c-b2c9-283c6a575ae4",
   "metadata": {},
   "source": [
    "# Сжатие картинок с помощью SVD разложения\n",
    "### Слуцкая Евгения Александровна, 1032206772, НПМбв-01-20"
   ]
  },
  {
   "cell_type": "markdown",
   "id": "125cf8b8",
   "metadata": {},
   "source": [
    "В этом задании нужно сделать сжатие изображения, сжатие с потерями. Для этого мы используем SVD разложение.\n",
    "\n",
    "Примерный порядок действий:\n",
    "1) Найти любую картинку,\n",
    "2) Прочитать её с помощью библиотеки PIL\n",
    "3) Преобразовать в numpy массив\n",
    "4) Применить SVD к матрице - обязательно прочитайте справку по этой функции `np.linalg.svd`\n",
    "\n",
    "**Примечание**: Цветная картинка представляет собой трёхканальное изображение RBG, поэтому напрямую SVD разложение применить не получится. Либо вы преобразуете изображение в одноканальное (градации серого), усредняя все три канала. Либо делаете SVD для всех трёх каналов в отдельности.\n",
    "\n",
    "5) Далее оставляете небольшое количество сингулярных значений - 1, 2, 10, 30, 100. И выводите результат в виде получившейся картинки - чем больше сингулярных чисел, тем ближе приближённая матрица к исходной.\n",
    "\n",
    "6) Сравните количество байт, необходимых для хранения исходной картинки и сжатой версии.\n",
    "\n",
    "Ниже представлены основные функции и библиотеки, которые вам понадобятся.\n",
    "\n",
    "Задание оформляете в виде блокнота jupyter. Особо понравившиеся картинки можно сохранить отдельно на диск, но мне удобнее чтобы они присутствовали в самом jupyter блокноте."
   ]
  },
  {
   "cell_type": "code",
   "execution_count": null,
   "id": "2eb45574",
   "metadata": {},
   "outputs": [],
   "source": [
    "from PIL import Image\n",
    "import numpy as np\n",
    "img = Image.open('panda.jpg') # можно сделать .resize(())\n",
    "x = np.array(img, dtype=np.float32) # преобразование из PIL в numpy array\n",
    "U, S, V = np.linalg.svd(X, full_matrices=False) # разложение SVD\n",
    "# обратное преобразование из numpy array в PIL с сохранение изображения на диск\n",
    "Image.fromarray(np.asarray(Y_r, dtype=np.uint8)).save(f'{r}.png')"
   ]
  },
  {
   "cell_type": "code",
   "execution_count": 5,
   "id": "22705dc0-8c04-40de-b375-aff3c5201fc8",
   "metadata": {},
   "outputs": [
    {
     "name": "stdout",
     "output_type": "stream",
     "text": [
      "Размеры массива изображения: (900, 1200, 3)\n",
      "Размер сжатого изображения (с 1 сингулярными значениями): 86119 байт\n",
      "Размер сжатого изображения (с 2 сингулярными значениями): 97529 байт\n",
      "Размер сжатого изображения (с 10 сингулярными значениями): 131389 байт\n",
      "Размер сжатого изображения (с 30 сингулярными значениями): 169861 байт\n",
      "Размер сжатого изображения (с 100 сингулярными значениями): 193181 байт\n",
      "Размер исходного изображения: 3240000 байт\n"
     ]
    }
   ],
   "source": [
    "from PIL import Image\n",
    "import numpy as np\n",
    "import os\n",
    "\n",
    "# Прочитаем изображение с помощью PIL\n",
    "image_path = \"Tom.jpg\"\n",
    "img = Image.open(image_path)\n",
    "\n",
    "# Преобразуем изображение в массив numpy\n",
    "img_array = np.array(img)\n",
    "\n",
    "# Проверим размеры массива\n",
    "print(\"Размеры массива изображения:\", img_array.shape)\n",
    "\n",
    "# Применим SVD к каждому цветовому каналу (R, G, B)\n",
    "U_r, S_r, V_r = np.linalg.svd(img_array[:, :, 0], full_matrices=False)\n",
    "U_g, S_g, V_g = np.linalg.svd(img_array[:, :, 1], full_matrices=False)\n",
    "U_b, S_b, V_b = np.linalg.svd(img_array[:, :, 2], full_matrices=False)\n",
    "\n",
    "# Выберем количество сингулярных значений для сжатия\n",
    "num_singular_values = [1, 2, 10, 30, 100]\n",
    "\n",
    "# Создадим функцию для восстановления изображения из усеченного SVD\n",
    "def reconstruct_image(U, S, V, num_values):\n",
    "    compressed_U = U[:, :num_values]\n",
    "    compressed_S = np.diag(S[:num_values])\n",
    "    compressed_Vt = V[:num_values, :]\n",
    "    reconstructed_image = np.dot(compressed_U, np.dot(compressed_S, compressed_Vt))\n",
    "    return reconstructed_image.astype('uint8')\n",
    "\n",
    "# Восстановим изображение для каждого значения сингулярных чисел и выведем результат\n",
    "for num in num_singular_values:\n",
    "    reconstructed_r = reconstruct_image(U_r, S_r, V_r, num)\n",
    "    reconstructed_g = reconstruct_image(U_g, S_g, V_g, num)\n",
    "    reconstructed_b = reconstruct_image(U_b, S_b, V_b, num)\n",
    "    reconstructed_img = np.stack((reconstructed_r, reconstructed_g, reconstructed_b), axis=-1)\n",
    "    reconstructed_img = Image.fromarray(reconstructed_img)\n",
    "    reconstructed_img.show()\n",
    "\n",
    "    # Сохранение восстановленных изображений и их сравнение по размеру\n",
    "    original_size = img_array.nbytes\n",
    "    reconstructed_img_path = f\"reconstructed_image_{num}.jpg\"\n",
    "    reconstructed_img.save(reconstructed_img_path, quality=95)\n",
    "    compressed_size = os.path.getsize(reconstructed_img_path)\n",
    "    \n",
    "    print(f\"Размер сжатого изображения (с {num} сингулярными значениями):\", compressed_size, \"байт\")\n",
    "\n",
    "print(\"Размер исходного изображения:\", original_size, \"байт\")"
   ]
  }
 ],
 "metadata": {
  "kernelspec": {
   "display_name": "Python 3 (ipykernel)",
   "language": "python",
   "name": "python3"
  },
  "language_info": {
   "codemirror_mode": {
    "name": "ipython",
    "version": 3
   },
   "file_extension": ".py",
   "mimetype": "text/x-python",
   "name": "python",
   "nbconvert_exporter": "python",
   "pygments_lexer": "ipython3",
   "version": "3.10.0"
  }
 },
 "nbformat": 4,
 "nbformat_minor": 5
}
